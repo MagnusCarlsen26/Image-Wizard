{
 "cells": [
  {
   "cell_type": "code",
   "execution_count": 49,
   "metadata": {},
   "outputs": [
    {
     "name": "stdout",
     "output_type": "stream",
     "text": [
      "\n",
      "0: 640x640 1 person, 129.5ms\n",
      "Speed: 5.0ms preprocess, 129.5ms inference, 4.0ms postprocess per image at shape (1, 3, 640, 640)\n"
     ]
    }
   ],
   "source": [
    "import cv2\n",
    "from ultralytics import YOLO\n",
    "\n",
    "model = YOLO('yolov8n-seg.pt')\n",
    "\n",
    "# Load the image\n",
    "image = cv2.imread('../course_72--square_thumbnail.webp')\n",
    "\n",
    "# Perform segmentation for the person class\n",
    "segment = model(classes=0,source=image)\n",
    "\n",
    "# # Display the segmented image\n",
    "# cv2.imshow(\"Segmented Person\", segmented_image)\n",
    "# cv2.waitKey(0)\n",
    "# cv2.destroyAllWindows()\n",
    "\n",
    "\n"
   ]
  },
  {
   "cell_type": "code",
   "execution_count": 50,
   "metadata": {},
   "outputs": [
    {
     "data": {
      "text/plain": [
       "[ultralytics.engine.results.Results object with attributes:\n",
       " \n",
       " boxes: ultralytics.engine.results.Boxes object\n",
       " keypoints: None\n",
       " masks: ultralytics.engine.results.Masks object\n",
       " names: {0: 'person', 1: 'bicycle', 2: 'car', 3: 'motorcycle', 4: 'airplane', 5: 'bus', 6: 'train', 7: 'truck', 8: 'boat', 9: 'traffic light', 10: 'fire hydrant', 11: 'stop sign', 12: 'parking meter', 13: 'bench', 14: 'bird', 15: 'cat', 16: 'dog', 17: 'horse', 18: 'sheep', 19: 'cow', 20: 'elephant', 21: 'bear', 22: 'zebra', 23: 'giraffe', 24: 'backpack', 25: 'umbrella', 26: 'handbag', 27: 'tie', 28: 'suitcase', 29: 'frisbee', 30: 'skis', 31: 'snowboard', 32: 'sports ball', 33: 'kite', 34: 'baseball bat', 35: 'baseball glove', 36: 'skateboard', 37: 'surfboard', 38: 'tennis racket', 39: 'bottle', 40: 'wine glass', 41: 'cup', 42: 'fork', 43: 'knife', 44: 'spoon', 45: 'bowl', 46: 'banana', 47: 'apple', 48: 'sandwich', 49: 'orange', 50: 'broccoli', 51: 'carrot', 52: 'hot dog', 53: 'pizza', 54: 'donut', 55: 'cake', 56: 'chair', 57: 'couch', 58: 'potted plant', 59: 'bed', 60: 'dining table', 61: 'toilet', 62: 'tv', 63: 'laptop', 64: 'mouse', 65: 'remote', 66: 'keyboard', 67: 'cell phone', 68: 'microwave', 69: 'oven', 70: 'toaster', 71: 'sink', 72: 'refrigerator', 73: 'book', 74: 'clock', 75: 'vase', 76: 'scissors', 77: 'teddy bear', 78: 'hair drier', 79: 'toothbrush'}\n",
       " obb: None\n",
       " orig_img: array([[[ 37,  35,  33],\n",
       "         [ 37,  35,  33],\n",
       "         [ 37,  35,  33],\n",
       "         ...,\n",
       "         [201, 191, 186],\n",
       "         [201, 191, 186],\n",
       "         [201, 191, 186]],\n",
       " \n",
       "        [[ 37,  35,  33],\n",
       "         [ 37,  35,  33],\n",
       "         [ 37,  35,  33],\n",
       "         ...,\n",
       "         [203, 194, 189],\n",
       "         [203, 194, 189],\n",
       "         [203, 194, 189]],\n",
       " \n",
       "        [[ 37,  35,  33],\n",
       "         [ 37,  35,  33],\n",
       "         [ 37,  35,  33],\n",
       "         ...,\n",
       "         [203, 194, 189],\n",
       "         [203, 194, 189],\n",
       "         [203, 194, 189]],\n",
       " \n",
       "        ...,\n",
       " \n",
       "        [[ 11,   9,   9],\n",
       "         [ 11,   9,   9],\n",
       "         [ 11,   9,   9],\n",
       "         ...,\n",
       "         [ 96,  81,  93],\n",
       "         [ 96,  81,  93],\n",
       "         [ 95,  80,  91]],\n",
       " \n",
       "        [[ 11,   9,   9],\n",
       "         [ 11,   9,   9],\n",
       "         [ 11,   9,   9],\n",
       "         ...,\n",
       "         [100,  84,  96],\n",
       "         [100,  84,  96],\n",
       "         [ 99,  83,  95]],\n",
       " \n",
       "        [[ 11,   9,   9],\n",
       "         [ 11,   9,   9],\n",
       "         [ 11,   9,   9],\n",
       "         ...,\n",
       "         [101,  86,  97],\n",
       "         [101,  86,  97],\n",
       "         [100,  84,  96]]], dtype=uint8)\n",
       " orig_shape: (800, 800)\n",
       " path: 'image0.jpg'\n",
       " probs: None\n",
       " save_dir: 'E:\\\\Computer Vision Project\\\\Image-Wizard\\\\runs\\\\segment\\\\predict'\n",
       " speed: {'preprocess': 4.982948303222656, 'inference': 129.48250770568848, 'postprocess': 3.9865970611572266}]"
      ]
     },
     "execution_count": 50,
     "metadata": {},
     "output_type": "execute_result"
    }
   ],
   "source": [
    "segment "
   ]
  },
  {
   "cell_type": "code",
   "execution_count": 53,
   "metadata": {},
   "outputs": [
    {
     "data": {
      "text/plain": [
       "[0.0]"
      ]
     },
     "execution_count": 53,
     "metadata": {},
     "output_type": "execute_result"
    }
   ],
   "source": [
    "classes = segment[0].boxes.cls.tolist()\n",
    "classes"
   ]
  },
  {
   "cell_type": "code",
   "execution_count": 54,
   "metadata": {},
   "outputs": [
    {
     "data": {
      "text/plain": [
       "{0: 'person',\n",
       " 1: 'bicycle',\n",
       " 2: 'car',\n",
       " 3: 'motorcycle',\n",
       " 4: 'airplane',\n",
       " 5: 'bus',\n",
       " 6: 'train',\n",
       " 7: 'truck',\n",
       " 8: 'boat',\n",
       " 9: 'traffic light',\n",
       " 10: 'fire hydrant',\n",
       " 11: 'stop sign',\n",
       " 12: 'parking meter',\n",
       " 13: 'bench',\n",
       " 14: 'bird',\n",
       " 15: 'cat',\n",
       " 16: 'dog',\n",
       " 17: 'horse',\n",
       " 18: 'sheep',\n",
       " 19: 'cow',\n",
       " 20: 'elephant',\n",
       " 21: 'bear',\n",
       " 22: 'zebra',\n",
       " 23: 'giraffe',\n",
       " 24: 'backpack',\n",
       " 25: 'umbrella',\n",
       " 26: 'handbag',\n",
       " 27: 'tie',\n",
       " 28: 'suitcase',\n",
       " 29: 'frisbee',\n",
       " 30: 'skis',\n",
       " 31: 'snowboard',\n",
       " 32: 'sports ball',\n",
       " 33: 'kite',\n",
       " 34: 'baseball bat',\n",
       " 35: 'baseball glove',\n",
       " 36: 'skateboard',\n",
       " 37: 'surfboard',\n",
       " 38: 'tennis racket',\n",
       " 39: 'bottle',\n",
       " 40: 'wine glass',\n",
       " 41: 'cup',\n",
       " 42: 'fork',\n",
       " 43: 'knife',\n",
       " 44: 'spoon',\n",
       " 45: 'bowl',\n",
       " 46: 'banana',\n",
       " 47: 'apple',\n",
       " 48: 'sandwich',\n",
       " 49: 'orange',\n",
       " 50: 'broccoli',\n",
       " 51: 'carrot',\n",
       " 52: 'hot dog',\n",
       " 53: 'pizza',\n",
       " 54: 'donut',\n",
       " 55: 'cake',\n",
       " 56: 'chair',\n",
       " 57: 'couch',\n",
       " 58: 'potted plant',\n",
       " 59: 'bed',\n",
       " 60: 'dining table',\n",
       " 61: 'toilet',\n",
       " 62: 'tv',\n",
       " 63: 'laptop',\n",
       " 64: 'mouse',\n",
       " 65: 'remote',\n",
       " 66: 'keyboard',\n",
       " 67: 'cell phone',\n",
       " 68: 'microwave',\n",
       " 69: 'oven',\n",
       " 70: 'toaster',\n",
       " 71: 'sink',\n",
       " 72: 'refrigerator',\n",
       " 73: 'book',\n",
       " 74: 'clock',\n",
       " 75: 'vase',\n",
       " 76: 'scissors',\n",
       " 77: 'teddy bear',\n",
       " 78: 'hair drier',\n",
       " 79: 'toothbrush'}"
      ]
     },
     "execution_count": 54,
     "metadata": {},
     "output_type": "execute_result"
    }
   ],
   "source": [
    "names = segment[0].names\n",
    "names"
   ]
  },
  {
   "cell_type": "code",
   "execution_count": 55,
   "metadata": {},
   "outputs": [
    {
     "data": {
      "text/plain": [
       "ultralytics.engine.results.Masks object with attributes:\n",
       "\n",
       "data: tensor([[[0., 0., 0.,  ..., 0., 0., 0.],\n",
       "         [0., 0., 0.,  ..., 0., 0., 0.],\n",
       "         [0., 0., 0.,  ..., 0., 0., 0.],\n",
       "         ...,\n",
       "         [0., 0., 0.,  ..., 0., 0., 0.],\n",
       "         [0., 0., 0.,  ..., 0., 0., 0.],\n",
       "         [0., 0., 0.,  ..., 0., 0., 0.]]])\n",
       "orig_shape: (800, 800)\n",
       "shape: torch.Size([1, 640, 640])\n",
       "xy: [array([[      457.5,       41.25],\n",
       "       [     456.25,        42.5],\n",
       "       [        450,        42.5],\n",
       "       ...,\n",
       "       [     516.25,        42.5],\n",
       "       [      512.5,        42.5],\n",
       "       [     511.25,       41.25]], dtype=float32)]\n",
       "xyn: [array([[    0.57187,    0.051562],\n",
       "       [    0.57031,    0.053125],\n",
       "       [     0.5625,    0.053125],\n",
       "       ...,\n",
       "       [    0.64531,    0.053125],\n",
       "       [    0.64062,    0.053125],\n",
       "       [    0.63906,    0.051562]], dtype=float32)]"
      ]
     },
     "execution_count": 55,
     "metadata": {},
     "output_type": "execute_result"
    }
   ],
   "source": [
    "masks = segment[0].masks\n",
    "masks"
   ]
  },
  {
   "cell_type": "code",
   "execution_count": 56,
   "metadata": {},
   "outputs": [],
   "source": [
    "for point in masks.xy[0]:\n",
    "    cv2.circle(image , (int(point[0]), int(point[1])) , radius= 2 , color=(0,0,255) , thickness=-1)"
   ]
  },
  {
   "cell_type": "code",
   "execution_count": 58,
   "metadata": {},
   "outputs": [
    {
     "data": {
      "text/plain": [
       "array([[[0, 0, 0],\n",
       "        [0, 0, 0],\n",
       "        [0, 0, 0],\n",
       "        ...,\n",
       "        [0, 0, 0],\n",
       "        [0, 0, 0],\n",
       "        [0, 0, 0]],\n",
       "\n",
       "       [[0, 0, 0],\n",
       "        [0, 0, 0],\n",
       "        [0, 0, 0],\n",
       "        ...,\n",
       "        [0, 0, 0],\n",
       "        [0, 0, 0],\n",
       "        [0, 0, 0]],\n",
       "\n",
       "       [[0, 0, 0],\n",
       "        [0, 0, 0],\n",
       "        [0, 0, 0],\n",
       "        ...,\n",
       "        [0, 0, 0],\n",
       "        [0, 0, 0],\n",
       "        [0, 0, 0]],\n",
       "\n",
       "       ...,\n",
       "\n",
       "       [[0, 0, 0],\n",
       "        [0, 0, 0],\n",
       "        [0, 0, 0],\n",
       "        ...,\n",
       "        [0, 0, 0],\n",
       "        [0, 0, 0],\n",
       "        [0, 0, 0]],\n",
       "\n",
       "       [[0, 0, 0],\n",
       "        [0, 0, 0],\n",
       "        [0, 0, 0],\n",
       "        ...,\n",
       "        [0, 0, 0],\n",
       "        [0, 0, 0],\n",
       "        [0, 0, 0]],\n",
       "\n",
       "       [[0, 0, 0],\n",
       "        [0, 0, 0],\n",
       "        [0, 0, 0],\n",
       "        ...,\n",
       "        [0, 0, 0],\n",
       "        [0, 0, 0],\n",
       "        [0, 0, 0]]], dtype=uint8)"
      ]
     },
     "execution_count": 58,
     "metadata": {},
     "output_type": "execute_result"
    }
   ],
   "source": [
    "import numpy as np\n",
    "hull = cv2.convexHull(np.array(masks.xy[0] , dtype=np.int32) , returnPoints= True)\n",
    "boundary_pts = np.array(masks.xy[0] , dtype=np.int32)\n",
    "# hull = hull.astype(np.int32)\n",
    "filled_image = np.zeros_like(image)\n",
    "cv2.drawContours(filled_image , [boundary_pts] , 0 , (0,255,0) ,thickness=cv2.FILLED )\n",
    "# result = cv2.bitwise_and(image, mask)"
   ]
  },
  {
   "cell_type": "code",
   "execution_count": 59,
   "metadata": {},
   "outputs": [],
   "source": [
    "cv2.imshow(\"annotation\",filled_image)\n",
    "cv2.waitKey(0)\n",
    "cv2.destroyAllWindows()"
   ]
  },
  {
   "cell_type": "code",
   "execution_count": 60,
   "metadata": {},
   "outputs": [
    {
     "data": {
      "text/plain": [
       "array([[[ 37,  35,  33],\n",
       "        [ 37,  35,  33],\n",
       "        [ 37,  35,  33],\n",
       "        ...,\n",
       "        [201, 191, 186],\n",
       "        [201, 191, 186],\n",
       "        [201, 191, 186]],\n",
       "\n",
       "       [[ 37,  35,  33],\n",
       "        [ 37,  35,  33],\n",
       "        [ 37,  35,  33],\n",
       "        ...,\n",
       "        [203, 194, 189],\n",
       "        [203, 194, 189],\n",
       "        [203, 194, 189]],\n",
       "\n",
       "       [[ 37,  35,  33],\n",
       "        [ 37,  35,  33],\n",
       "        [ 37,  35,  33],\n",
       "        ...,\n",
       "        [203, 194, 189],\n",
       "        [203, 194, 189],\n",
       "        [203, 194, 189]],\n",
       "\n",
       "       ...,\n",
       "\n",
       "       [[ 11,   9,   9],\n",
       "        [ 11,   9,   9],\n",
       "        [ 11,   9,   9],\n",
       "        ...,\n",
       "        [ 96,  81,  93],\n",
       "        [ 96,  81,  93],\n",
       "        [ 95,  80,  91]],\n",
       "\n",
       "       [[ 11,   9,   9],\n",
       "        [ 11,   9,   9],\n",
       "        [ 11,   9,   9],\n",
       "        ...,\n",
       "        [100,  84,  96],\n",
       "        [100,  84,  96],\n",
       "        [ 99,  83,  95]],\n",
       "\n",
       "       [[ 11,   9,   9],\n",
       "        [ 11,   9,   9],\n",
       "        [ 11,   9,   9],\n",
       "        ...,\n",
       "        [101,  86,  97],\n",
       "        [101,  86,  97],\n",
       "        [100,  84,  96]]], dtype=uint8)"
      ]
     },
     "execution_count": 60,
     "metadata": {},
     "output_type": "execute_result"
    }
   ],
   "source": [
    "cv2.drawContours(image , [boundary_pts] , 0 , (0,255,0) ,thickness=cv2.FILLED )"
   ]
  },
  {
   "cell_type": "code",
   "execution_count": 61,
   "metadata": {},
   "outputs": [],
   "source": [
    "cv2.imshow(\"annotation\",image)\n",
    "cv2.waitKey(0)\n",
    "cv2.destroyAllWindows()"
   ]
  },
  {
   "cell_type": "markdown",
   "metadata": {},
   "source": [
    "# https://github.com/ultralytics/ultralytics/issues/5090"
   ]
  },
  {
   "cell_type": "code",
   "execution_count": null,
   "metadata": {},
   "outputs": [],
   "source": [
    "# from ultralytics import YOLO\n",
    "\n",
    "# model = YOLO('yolov8n-seg.pt')\n",
    "\n",
    "# # Make predictions with the model\n",
    "# results = model('https://ultralytics.com/images/bus.jpg')\n",
    "\n",
    "# # Extract bounding boxes, classes, object names, confidence scores, and mask\n",
    "# boxes = results[0].boxes.xyxy.tolist()\n",
    "# classes = results[0].boxes.cls.tolist()\n",
    "# names = results[0].names\n",
    "# confidences = results[0].boxes.conf.tolist()\n",
    "# masks = results[0].masks\n",
    "\n",
    "# # Iterate through each detected object's box, class, confidence, and mask\n",
    "# for box, cls, conf, mask in zip(boxes, classes, confidences, masks):\n",
    "#     print(mask)\n",
    "#     # Your additional processing here\n",
    "#     # ..."
   ]
  },
  {
   "cell_type": "code",
   "execution_count": null,
   "metadata": {},
   "outputs": [],
   "source": []
  }
 ],
 "metadata": {
  "kernelspec": {
   "display_name": "myenv",
   "language": "python",
   "name": "python3"
  },
  "language_info": {
   "codemirror_mode": {
    "name": "ipython",
    "version": 3
   },
   "file_extension": ".py",
   "mimetype": "text/x-python",
   "name": "python",
   "nbconvert_exporter": "python",
   "pygments_lexer": "ipython3",
   "version": "3.8.9"
  }
 },
 "nbformat": 4,
 "nbformat_minor": 2
}
